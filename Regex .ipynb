{
 "cells": [
  {
   "cell_type": "code",
   "execution_count": 15,
   "metadata": {},
   "outputs": [
    {
     "data": {
      "text/plain": [
       "47"
      ]
     },
     "execution_count": 15,
     "metadata": {},
     "output_type": "execute_result"
    }
   ],
   "source": [
    "import re\n",
    "import json\n",
    "import csv\n",
    "\n",
    "with open('data.json') as outfile:  \n",
    "    data=json.load(outfile)\n",
    "data\n",
    "\n",
    "outputFile = open('output.csv', 'r+', newline='')\n",
    "outputWriter = csv.writer(outputFile)\n",
    "\n",
    "outputWriter.writerow([\"backend_name\",data[\"backend_name\"]])\n",
    "outputWriter.writerow([\"category\",data[\"category\"]])\n",
    "outputWriter.writerow([\"Commit\",data['data']['Commit']])\n",
    "outputWriter.writerow([\"timestamp\",data['timestamp']])    \n",
    "outputWriter.writerow([\"uuid\",data['uuid']])\n"
   ]
  },
  {
   "cell_type": "code",
   "execution_count": 16,
   "metadata": {},
   "outputs": [
    {
     "name": "stdout",
     "output_type": "stream",
     "text": [
      "3\n"
     ]
    }
   ],
   "source": [
    "s=0\n",
    "\n",
    "for item in data['data']['files']:\n",
    "    s=s+int(item['removed'])\n",
    "print(s)"
   ]
  },
  {
   "cell_type": "code",
   "execution_count": 17,
   "metadata": {},
   "outputs": [
    {
     "data": {
      "text/plain": [
       "['71845ed', '60c7460', 'd25faba', '5aac777']"
      ]
     },
     "execution_count": 17,
     "metadata": {},
     "output_type": "execute_result"
    }
   ],
   "source": [
    "li=[]\n",
    "\n",
    "for item in data['data']['files']:\n",
    "    i=item['indexes']\n",
    "    for items in i:\n",
    "        li.append(items)\n",
    "\n",
    "li"
   ]
  },
  {
   "cell_type": "code",
   "execution_count": 18,
   "metadata": {},
   "outputs": [
    {
     "data": {
      "text/plain": [
       "['Honza Kral <honza.kral@gmail.com>']"
      ]
     },
     "execution_count": 18,
     "metadata": {},
     "output_type": "execute_result"
    }
   ],
   "source": [
    "import re\n",
    "authorRegex = re.compile(r'[A-za-z]* [a-zA-Z]* <[\\w]*[\\s._-]*[\\w]*@[\\w]*.[a-z]{3,5}>')\n",
    "authorRegex.findall(data['data']['Author'])\n"
   ]
  },
  {
   "cell_type": "code",
   "execution_count": 25,
   "metadata": {},
   "outputs": [
    {
     "data": {
      "text/plain": [
       "['https:',\n",
       " '',\n",
       " 'github.com',\n",
       " 'elastic',\n",
       " 'elasticsearch-pyth0n-it3rat1ng-and5-shit9']"
      ]
     },
     "execution_count": 25,
     "metadata": {},
     "output_type": "execute_result"
    }
   ],
   "source": [
    "import re\n",
    "originRegex = re.compile(r'https://[\\w]*.[a-z]{3,5}/[\\w]*/[\\w]*[-[\\w]*]*')\n",
    "li=originRegex.findall(data['origin'])\n",
    "string=li[0]\n",
    "string.split('/')"
   ]
  }
 ],
 "metadata": {
  "kernelspec": {
   "display_name": "Python 3",
   "language": "python",
   "name": "python3"
  },
  "language_info": {
   "codemirror_mode": {
    "name": "ipython",
    "version": 3
   },
   "file_extension": ".py",
   "mimetype": "text/x-python",
   "name": "python",
   "nbconvert_exporter": "python",
   "pygments_lexer": "ipython3",
   "version": "3.7.3"
  }
 },
 "nbformat": 4,
 "nbformat_minor": 2
}

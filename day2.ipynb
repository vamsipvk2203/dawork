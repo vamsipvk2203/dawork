{
 "cells": [
  {
   "cell_type": "code",
   "execution_count": 2,
   "metadata": {},
   "outputs": [
    {
     "name": "stdout",
     "output_type": "stream",
     "text": [
      "Unlike you,Alice is not a undead,immortal vampire\n"
     ]
    }
   ],
   "source": [
    "name='Dracula'\n",
    "age=4000\n",
    "\n",
    "if name=='Alice':\n",
    "    print('Hi!,Alice')\n",
    "elif age<12:\n",
    "    print('Youre not Alice,kiddo!')\n",
    "elif age>2000:\n",
    "    print('Unlike you,Alice is not a undead,immortal vampire')\n",
    "elif age>100:\n",
    "    print('Youre not Alice,Grannie!')"
   ]
  },
  {
   "cell_type": "code",
   "execution_count": 4,
   "metadata": {},
   "outputs": [
    {
     "name": "stdout",
     "output_type": "stream",
     "text": [
      "bread added\n",
      "I need more bread\n",
      "bread added\n",
      "bread added\n",
      "bread added\n",
      "bread added\n"
     ]
    }
   ],
   "source": [
    "bread=0\n",
    "while bread<5:\n",
    "    bread=bread+1\n",
    "    print(\"bread added\")\n",
    "    if bread<2:\n",
    "        print(\"I need more bread\")\n",
    "        continue\n",
    "        print (\"got enough bread\")"
   ]
  },
  {
   "cell_type": "code",
   "execution_count": 8,
   "metadata": {},
   "outputs": [
    {
     "name": "stdout",
     "output_type": "stream",
     "text": [
      "100\n",
      "sum of given n natural numbers is 5050\n"
     ]
    }
   ],
   "source": [
    "sumn=0\n",
    "n=int(input())\n",
    "while True:\n",
    "    sumn=sumn+n\n",
    "    n=n-1\n",
    "    if n<1:\n",
    "        break\n",
    "\n",
    "print('sum of given n natural numbers is ' + str(sumn))"
   ]
  },
  {
   "cell_type": "code",
   "execution_count": null,
   "metadata": {},
   "outputs": [],
   "source": [
    "def makeiteven(n):\n",
    "    return n*2\n",
    "\n",
    "print(makeiteven(2))\n",
    "print(makeiteven('pq'))\n"
   ]
  },
  {
   "cell_type": "code",
   "execution_count": null,
   "metadata": {},
   "outputs": [],
   "source": [
    "print('Hey Im guessing a number between 1 to 20')\n",
    "while True:\n",
    "    print ('Take a guess')\n",
    "    n=int(input())\n",
    "    if n==16:\n",
    "        print('Your guess is correct') \n",
    "        break;\n",
    "    elif n<16:\n",
    "        print('Your guess is too low')\n",
    "    elif n>16:\n",
    "        print('Your guess is too high')\n"
   ]
  },
  {
   "cell_type": "code",
   "execution_count": 6,
   "metadata": {},
   "outputs": [
    {
     "name": "stdout",
     "output_type": "stream",
     "text": [
      "Inventory:\n",
      "1 rope\n",
      "6 torch\n",
      "42 gold coin\n",
      "1 dagger\n",
      "12 arrow\n",
      "Total number of items: 62\n"
     ]
    }
   ],
   "source": [
    "\n",
    "stuff = {'rope': 1, 'torch': 6, 'gold coin': 42, 'dagger': 1, 'arrow': 12}\n",
    "\n",
    "def displayInventory(inventory):\n",
    "    print(\"Inventory:\")\n",
    "    item_total = 0\n",
    "    for (k, v) in inventory.items():\n",
    "        print(str(v)+' '+k)\n",
    "        item_total=item_total+v\n",
    "    print(\"Total number of items: \" + str(item_total))\n",
    "\n",
    "displayInventory(stuff)"
   ]
  },
  {
   "cell_type": "code",
   "execution_count": 11,
   "metadata": {},
   "outputs": [
    {
     "name": "stdout",
     "output_type": "stream",
     "text": [
      "Updated Inventory\n",
      "Inventory:\n",
      "45 gold coin\n",
      "1 rope\n",
      "2 dagger\n",
      "1 ruby\n",
      "Total number of items: 49\n"
     ]
    }
   ],
   "source": [
    "def addToInventory(inventory, addedItems):\n",
    "    print('Updated Inventory')\n",
    "    for item in addedItems: \n",
    "        if item in inventory.keys():\n",
    "            inventory[item]=inventory[item]+1\n",
    "        elif item not in inventory.keys():\n",
    "            inventory[item]=1\n",
    "    return inventory\n",
    "\n",
    "            \n",
    "inv = {'gold coin': 42, 'rope': 1}\n",
    "dragonLoot = ['gold coin', 'dagger', 'gold coin', 'gold coin', 'ruby','dagger']\n",
    "inv = addToInventory(inv, dragonLoot)\n",
    "displayInventory(inv)"
   ]
  },
  {
   "cell_type": "code",
   "execution_count": 16,
   "metadata": {},
   "outputs": [
    {
     "name": "stdout",
     "output_type": "stream",
     "text": [
      "    Dear Alice,\n",
      "      \n",
      "      Eve's cat has been arrested for catnapping, cat burglary and extortion.\n",
      "\n",
      "      \n",
      "      Sincerely,\n",
      "      Bob.\n",
      "      \n",
      "      \n"
     ]
    }
   ],
   "source": [
    "print('''    Dear Alice,\n",
    "      \n",
    "      Eve's cat has been arrested for catnapping, cat burglary and extortion.\\n\n",
    "      \n",
    "      Sincerely,\n",
    "      Bob.\n",
    "      \n",
    "      ''')"
   ]
  },
  {
   "cell_type": "code",
   "execution_count": 19,
   "metadata": {},
   "outputs": [
    {
     "ename": "SyntaxError",
     "evalue": "EOL while scanning string literal (<ipython-input-19-9a387e9355da>, line 1)",
     "output_type": "error",
     "traceback": [
      "\u001b[1;36m  File \u001b[1;32m\"<ipython-input-19-9a387e9355da>\"\u001b[1;36m, line \u001b[1;32m1\u001b[0m\n\u001b[1;33m    print('Dear Alice, Eve\\'s cat has been arrested for catnapping, cat burglary and extortion\\.\\nSincerely\\,\\nBob\\.\u001b[0m\n\u001b[1;37m                                                                                                                    ^\u001b[0m\n\u001b[1;31mSyntaxError\u001b[0m\u001b[1;31m:\u001b[0m EOL while scanning string literal\n"
     ]
    }
   ],
   "source": [
    "print('Dear Alice, Eve\\'s cat has been arrested for catnapping, cat burglary and extortion\\.\\nSincerely\\,\\nBob.\n",
    "      \n",
    "      ')"
   ]
  },
  {
   "cell_type": "code",
   "execution_count": 20,
   "metadata": {},
   "outputs": [
    {
     "ename": "SyntaxError",
     "evalue": "EOL while scanning string literal (<ipython-input-20-bd871000d7c2>, line 1)",
     "output_type": "error",
     "traceback": [
      "\u001b[1;36m  File \u001b[1;32m\"<ipython-input-20-bd871000d7c2>\"\u001b[1;36m, line \u001b[1;32m1\u001b[0m\n\u001b[1;33m    print('Dear Alice,\\n\\nEve\\'s cat has been arrested for catnapping, cat\u001b[0m\n\u001b[1;37m                                                                          ^\u001b[0m\n\u001b[1;31mSyntaxError\u001b[0m\u001b[1;31m:\u001b[0m EOL while scanning string literal\n"
     ]
    }
   ],
   "source": [
    "print('Dear Alice,\\n\\nEve\\'s cat has been arrested for catnapping, cat\n",
    "        burglary, and extortion.\\n\\nSincerely,\\nBob')"
   ]
  },
  {
   "cell_type": "code",
   "execution_count": 21,
   "metadata": {},
   "outputs": [],
   "source": [
    "\n",
    "\n",
    "\n",
    "def spam():\n",
    "    \"\"\"This is a multiline comment to help\n",
    "    explain what the spam() function does.\"\"\"\n",
    "    print('Hello!')"
   ]
  },
  {
   "cell_type": "code",
   "execution_count": 1,
   "metadata": {},
   "outputs": [
    {
     "data": {
      "text/plain": [
       "\"This is Alice's cat\""
      ]
     },
     "execution_count": 1,
     "metadata": {},
     "output_type": "execute_result"
    }
   ],
   "source": [
    "spam=\"This is Alice's cat\"\n",
    "spam"
   ]
  },
  {
   "cell_type": "code",
   "execution_count": 3,
   "metadata": {},
   "outputs": [
    {
     "name": "stdout",
     "output_type": "stream",
     "text": [
      "this is alice's cat\n"
     ]
    }
   ],
   "source": [
    "spam='this is alice\\'s cat'\n",
    "print(spam)"
   ]
  },
  {
   "cell_type": "code",
   "execution_count": 6,
   "metadata": {},
   "outputs": [
    {
     "ename": "SyntaxError",
     "evalue": "invalid syntax (<ipython-input-6-dfd03beaa54d>, line 1)",
     "output_type": "error",
     "traceback": [
      "\u001b[1;36m  File \u001b[1;32m\"<ipython-input-6-dfd03beaa54d>\"\u001b[1;36m, line \u001b[1;32m1\u001b[0m\n\u001b[1;33m    print(r'That is Carol's cat.')\u001b[0m\n\u001b[1;37m                          ^\u001b[0m\n\u001b[1;31mSyntaxError\u001b[0m\u001b[1;31m:\u001b[0m invalid syntax\n"
     ]
    }
   ],
   "source": [
    " print(r'That is Carol's cat.')"
   ]
  },
  {
   "cell_type": "code",
   "execution_count": 7,
   "metadata": {},
   "outputs": [
    {
     "ename": "ModuleNotFoundError",
     "evalue": "No module named 'pyperclip'",
     "output_type": "error",
     "traceback": [
      "\u001b[1;31m---------------------------------------------------------------------------\u001b[0m",
      "\u001b[1;31mModuleNotFoundError\u001b[0m                       Traceback (most recent call last)",
      "\u001b[1;32m<ipython-input-7-d95db62857ab>\u001b[0m in \u001b[0;36m<module>\u001b[1;34m\u001b[0m\n\u001b[1;32m----> 1\u001b[1;33m \u001b[1;32mimport\u001b[0m \u001b[0mpyperclip\u001b[0m\u001b[1;33m\u001b[0m\u001b[1;33m\u001b[0m\u001b[0m\n\u001b[0m\u001b[0;32m      2\u001b[0m \u001b[0mpyperclip\u001b[0m\u001b[1;33m.\u001b[0m\u001b[0mcopy\u001b[0m\u001b[1;33m(\u001b[0m\u001b[1;34m'Hello world!'\u001b[0m\u001b[1;33m)\u001b[0m\u001b[1;33m\u001b[0m\u001b[1;33m\u001b[0m\u001b[0m\n\u001b[0;32m      3\u001b[0m \u001b[0mpyperclip\u001b[0m\u001b[1;33m.\u001b[0m\u001b[0mpaste\u001b[0m\u001b[1;33m(\u001b[0m\u001b[1;33m)\u001b[0m\u001b[1;33m\u001b[0m\u001b[1;33m\u001b[0m\u001b[0m\n",
      "\u001b[1;31mModuleNotFoundError\u001b[0m: No module named 'pyperclip'"
     ]
    }
   ],
   "source": [
    "import pyperclip\n",
    "pyperclip.copy('Hello world!')\n",
    "pyperclip.paste()"
   ]
  },
  {
   "cell_type": "code",
   "execution_count": 43,
   "metadata": {},
   "outputs": [
    {
     "name": "stdout",
     "output_type": "stream",
     "text": [
      "  apples\n",
      " oranges\n",
      "cherries\n",
      "  banana\n",
      "       Alice\n",
      "         Bob\n",
      "       Carol\n",
      "Davidbrestri\n",
      "  dogs\n",
      "  cats\n",
      "moosey\n",
      " goose\n"
     ]
    }
   ],
   "source": [
    "\n",
    "def longestWord(some_list): \n",
    "    count = 0    #You set the count to 0\n",
    "    for i in some_list: # Go through the whole list\n",
    "        if len(i) > count: #Checking for the longest word(string)\n",
    "            count = len(i)\n",
    "            word = i\n",
    "    return count\n",
    "def printTable(table):\n",
    "    for i in range (0,len(table)):\n",
    "        colsWidth=longestWord(table[i])\n",
    "        for it in table[i]:\n",
    "            print(it.rjust(colsWidth))\n",
    "    \n",
    "           \n",
    "printTable(tableData)\n",
    "\n",
    "tableData = [['apples', 'oranges', 'cherries', 'banana'],\n",
    "             ['Alice', 'Bob', 'Carol', 'Davidbrestri'],\n",
    "             ['dogs', 'cats', 'moosey', 'goose']]\n"
   ]
  },
  {
   "cell_type": "code",
   "execution_count": 27,
   "metadata": {},
   "outputs": [
    {
     "data": {
      "text/plain": [
       "47"
      ]
     },
     "execution_count": 27,
     "metadata": {},
     "output_type": "execute_result"
    }
   ],
   "source": [
    "\n",
    "\n"
   ]
  },
  {
   "cell_type": "code",
   "execution_count": 28,
   "metadata": {},
   "outputs": [
    {
     "name": "stdout",
     "output_type": "stream",
     "text": [
      "3\n"
     ]
    }
   ],
   "source": []
  },
  {
   "cell_type": "code",
   "execution_count": 34,
   "metadata": {},
   "outputs": [
    {
     "name": "stdout",
     "output_type": "stream",
     "text": [
      "['71845ed', '60c7460']\n",
      "['d25faba', '5aac777']\n"
     ]
    },
    {
     "data": {
      "text/plain": [
       "['71845ed', '60c7460', 'd25faba', '5aac777']"
      ]
     },
     "execution_count": 34,
     "metadata": {},
     "output_type": "execute_result"
    }
   ],
   "source": []
  },
  {
   "cell_type": "code",
   "execution_count": 36,
   "metadata": {},
   "outputs": [
    {
     "data": {
      "text/plain": [
       "['Honza Kral <honza.kral@gmail.com>']"
      ]
     },
     "execution_count": 36,
     "metadata": {},
     "output_type": "execute_result"
    }
   ],
   "source": []
  },
  {
   "cell_type": "code",
   "execution_count": 38,
   "metadata": {},
   "outputs": [
    {
     "data": {
      "text/plain": [
       "['https://github.com/elastic/elasticsearch-py']"
      ]
     },
     "execution_count": 38,
     "metadata": {},
     "output_type": "execute_result"
    }
   ],
   "source": []
  },
  {
   "cell_type": "code",
   "execution_count": 26,
   "metadata": {},
   "outputs": [
    {
     "data": {
      "text/plain": [
       "{'backend_name': 'Git',\n",
       " 'backend_version': '0.10.2',\n",
       " 'category': 'commit',\n",
       " 'data': {'Author': 'Honza Kral <honza.kral@gmail.com>',\n",
       "  'AuthorDate': 'Thu May 2 00:34:46 2013 +0200',\n",
       "  'Commit': 'Honza Kral <honza.kral@gmail.com>',\n",
       "  'CommitDate': 'Thu May 2 00:34:46 2013 +0200',\n",
       "  'commit': 'ebd6370e5914c941cd25acc79fe4614a59361509',\n",
       "  'files': [{'action': 'M',\n",
       "    'added': '27',\n",
       "    'file': 'elasticsearch/connection.py',\n",
       "    'indexes': ['71845ed', '60c7460'],\n",
       "    'modes': ['100644', '100644'],\n",
       "    'removed': '2'},\n",
       "   {'action': 'M',\n",
       "    'added': '39',\n",
       "    'file': 'test_elasticsearch/test_connection.py',\n",
       "    'indexes': ['d25faba', '5aac777'],\n",
       "    'modes': ['100644', '100644'],\n",
       "    'removed': '1'}],\n",
       "  'message': 'Add logging on successful request',\n",
       "  'parents': ['71daa6ef14186f9fa9715eacddd4e8c43e3ae392'],\n",
       "  'refs': []},\n",
       " 'origin': 'https://github.com/elastic/elasticsearch-py',\n",
       " 'perceval_version': '0.12.5',\n",
       " 'tag': 'https://github.com/elastic/elasticsearch-py',\n",
       " 'timestamp': 1551817991.390303,\n",
       " 'updated_on': 1367447686.0,\n",
       " 'uuid': '705401faa5581f8dd95a96c9c09c4bfcc570688e'}"
      ]
     },
     "execution_count": 26,
     "metadata": {},
     "output_type": "execute_result"
    }
   ],
   "source": [
    "import re\n",
    "import json\n",
    "import csv\n",
    "\n",
    "with open('data.json') as outfile:  \n",
    "    data=json.load(outfile)\n",
    "data"
   ]
  }
 ],
 "metadata": {
  "kernelspec": {
   "display_name": "Python 3",
   "language": "python",
   "name": "python3"
  },
  "language_info": {
   "codemirror_mode": {
    "name": "ipython",
    "version": 3
   },
   "file_extension": ".py",
   "mimetype": "text/x-python",
   "name": "python",
   "nbconvert_exporter": "python",
   "pygments_lexer": "ipython3",
   "version": "3.7.3"
  }
 },
 "nbformat": 4,
 "nbformat_minor": 2
}
